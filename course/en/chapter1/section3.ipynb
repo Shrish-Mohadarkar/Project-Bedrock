{
  "cells": [
    {
      "cell_type": "markdown",
      "metadata": {
        "id": "oINVl2Hgfd5C"
      },
      "source": [
        "# Transformers, what can they do?"
      ]
    },
    {
      "cell_type": "markdown",
      "metadata": {
        "id": "afRsoh_5fd5I"
      },
      "source": [
        "Install the Transformers, Datasets, and Evaluate libraries to run this notebook."
      ]
    },
    {
      "cell_type": "code",
      "source": [
        "from huggingface_hub import HfApi\n",
        "\n",
        "api = HfApi()\n",
        "models = api.list_models(emissions_thresholds=(None, 100), cardData=True)"
      ],
      "metadata": {
        "id": "AGJaRm2k0yke"
      },
      "execution_count": 8,
      "outputs": []
    },
    {
      "cell_type": "code",
      "source": [
        "from datasets import load_dataset\n",
        "from transformers import AutoModelForSequenceClassification, AutoTokenizer, Trainer, TrainingArguments\n",
        "​\n",
        "ds = load_dataset(\"imdb\")\n",
        "model = AutoModelForSequenceClassification.from_pretrained(\"bert-base-cased\", num_labels=2)\n",
        "tokenizer = AutoTokenizer.from_pretrained(\"bert-base-cased\")\n",
        "​\n",
        "def tokenize_function(examples):\n",
        "    return tokenizer(examples[\"text\"], padding=\"max_length\", truncation=True)\n",
        "​\n",
        "​\n",
        "small_train_dataset = ds[\"train\"].shuffle(seed=42).select(range(1000)).map(tokenize_function, batched=True)\n",
        "small_eval_dataset = ds[\"test\"].shuffle(seed=42).select(range(1000)).map(tokenize_function, batched=True)\n",
        "​\n",
        "​\n",
        "training_args = TrainingArguments(\n",
        "    \"codecarbon-text-classification\",\n",
        "    num_train_epochs=4,\n",
        "    push_to_hub=False\n",
        ")\n",
        "​\n",
        "trainer = Trainer(\n",
        "    model=model,\n",
        "    args=training_args,\n",
        "    train_dataset=small_train_dataset,\n",
        "    eval_dataset=small_eval_dataset,\n",
        ")\n",
        "​\n",
        "trainer.train()\n"
      ],
      "metadata": {
        "id": "t40D7-_m18OI"
      },
      "execution_count": null,
      "outputs": []
    }
  ],
  "metadata": {
    "colab": {
      "name": "Transformers, what can they do?",
      "provenance": []
    },
    "language_info": {
      "name": "python"
    },
    "kernelspec": {
      "name": "python3",
      "display_name": "Python 3"
    }
  },
  "nbformat": 4,
  "nbformat_minor": 0
}